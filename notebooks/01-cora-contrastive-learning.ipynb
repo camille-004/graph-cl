{
 "cells": [
  {
   "cell_type": "code",
   "execution_count": 51,
   "metadata": {
    "collapsed": true,
    "ExecuteTime": {
     "end_time": "2023-05-13T06:52:07.449994021Z",
     "start_time": "2023-05-13T06:52:07.401203717Z"
    }
   },
   "outputs": [],
   "source": [
    "import time\n",
    "\n",
    "import numpy as np\n",
    "import torch\n",
    "from torch_geometric.data import Data\n",
    "from torch_geometric.datasets import Planetoid\n",
    "from torch_geometric.transforms import NormalizeFeatures\n",
    "from torch_geometric.utils import subgraph"
   ]
  },
  {
   "cell_type": "code",
   "execution_count": 43,
   "outputs": [],
   "source": [
    "dataset = Planetoid(\"../data\", \"cora\", transform=NormalizeFeatures())"
   ],
   "metadata": {
    "collapsed": false,
    "ExecuteTime": {
     "end_time": "2023-05-13T06:49:19.945924821Z",
     "start_time": "2023-05-13T06:49:19.932348185Z"
    }
   }
  },
  {
   "cell_type": "code",
   "execution_count": 44,
   "outputs": [],
   "source": [
    "num_nodes = dataset[0].num_nodes\n",
    "num_features = dataset.num_node_features\n",
    "num_classes = dataset.num_classes"
   ],
   "metadata": {
    "collapsed": false,
    "ExecuteTime": {
     "end_time": "2023-05-13T06:49:20.328046070Z",
     "start_time": "2023-05-13T06:49:20.309113225Z"
    }
   }
  },
  {
   "cell_type": "code",
   "execution_count": 45,
   "outputs": [],
   "source": [
    "data = dataset[0]"
   ],
   "metadata": {
    "collapsed": false,
    "ExecuteTime": {
     "end_time": "2023-05-13T06:49:20.647644106Z",
     "start_time": "2023-05-13T06:49:20.645719666Z"
    }
   }
  },
  {
   "cell_type": "code",
   "execution_count": 46,
   "outputs": [],
   "source": [
    "def drop_random_edges(edge_index: torch.Tensor, p_drop: float = 0.2) -> Data:\n",
    "    num_edges = edge_index.shape[1]\n",
    "    num_edges_drop = int(p_drop * num_edges)\n",
    "    mask = torch.ones(num_edges, dtype=bool)\n",
    "    drop_indices = np.random.choice(num_edges, num_edges_drop, replace=False)\n",
    "    mask[drop_indices] = False\n",
    "    edge_index_dropped = edge_index[:, mask]\n",
    "\n",
    "    return edge_index_dropped\n",
    "\n",
    "\n",
    "def add_random_edges(edge_index: torch.Tensor, _num_nodes: int, p_add: float = 0.2) -> torch.Tensor:\n",
    "    num_edges = edge_index.shape[1]\n",
    "    num_edges_add = int(p_add * num_edges)\n",
    "    edge_index_np = edge_index.cpu().numpy()\n",
    "    edges_add = np.random.randint(low=0, high=_num_nodes, size=(2, num_edges_add))\n",
    "\n",
    "    # Ensure new edges are not duplicates\n",
    "    for i in range(num_edges_add):\n",
    "        while edges_add[:, i] in edge_index_np.T:\n",
    "            edges_add[:, i] = np.random.randint(low=0, high=_num_nodes, size=2)\n",
    "\n",
    "    # Add new edges to graph\n",
    "    edge_index_added = torch.cat([edge_index, torch.tensor(edges_add, dtype=torch.long)], dim=1)\n",
    "\n",
    "    return edge_index_added\n",
    "\n",
    "\n",
    "def edge_perturbation(_data: Data, p_drop: float, p_add: float) -> Data:\n",
    "    start_time = time.time()\n",
    "\n",
    "    edge_index = _data.edge_index\n",
    "    _num_nodes = _data.num_nodes\n",
    "    edge_index_dropped = drop_random_edges(edge_index, p_drop)\n",
    "    edge_index_added = add_random_edges(edge_index_dropped, _num_nodes, p_add)\n",
    "\n",
    "    _data.edge_index = edge_index_added\n",
    "\n",
    "    end_time = time.time()\n",
    "    print(\"Perturbation took {:.2f} seconds\".format(end_time - start_time))\n",
    "\n",
    "    return _data"
   ],
   "metadata": {
    "collapsed": false,
    "ExecuteTime": {
     "end_time": "2023-05-13T06:49:20.950555514Z",
     "start_time": "2023-05-13T06:49:20.941716686Z"
    }
   }
  },
  {
   "cell_type": "code",
   "execution_count": 47,
   "outputs": [
    {
     "name": "stdout",
     "output_type": "stream",
     "text": [
      "Perturbation took 31.41 seconds\n"
     ]
    }
   ],
   "source": [
    "data_perturbed = edge_perturbation(data, 0.2, 0.2)"
   ],
   "metadata": {
    "collapsed": false,
    "ExecuteTime": {
     "end_time": "2023-05-13T06:49:52.726376951Z",
     "start_time": "2023-05-13T06:49:21.317553703Z"
    }
   }
  },
  {
   "cell_type": "code",
   "execution_count": 48,
   "outputs": [],
   "source": [
    "def drop_random_nodes(_data: Data, p_drop: float = 0.2) -> Data:\n",
    "    _num_nodes = _data.num_nodes\n",
    "    num_nodes_drop = int(p_drop * _num_nodes)\n",
    "    mask = torch.ones(_num_nodes, dtype=bool)\n",
    "    drop_indices = torch.randperm(_num_nodes)[:num_nodes_drop]\n",
    "    mask[drop_indices] = False\n",
    "\n",
    "    # Drop from edge index\n",
    "    edge_index = _data.edge_index\n",
    "    rows, cols = edge_index\n",
    "    mask_edge = mask[rows] & mask[cols]\n",
    "    edge_index_dropped = edge_index[:, mask_edge]\n",
    "\n",
    "    # Re-index edge index\n",
    "    remaining_nodes = torch.arange(_num_nodes)[mask]\n",
    "    map_new_indices = torch.full((_num_nodes,), -1, dtype=torch.long)\n",
    "    map_new_indices[remaining_nodes] = torch.arange(remaining_nodes.size(0))\n",
    "    edge_index_dropped = map_new_indices[edge_index_dropped]\n",
    "\n",
    "    # Drop nodes from node features if present\n",
    "    if _data.x is not None:\n",
    "        _data.x = _data.x[mask]\n",
    "\n",
    "    _data.edge_index = edge_index_dropped\n",
    "    _data.num_nodes = remaining_nodes.size(0)\n",
    "\n",
    "    return _data"
   ],
   "metadata": {
    "collapsed": false,
    "ExecuteTime": {
     "end_time": "2023-05-13T06:49:52.729155960Z",
     "start_time": "2023-05-13T06:49:52.728235880Z"
    }
   }
  },
  {
   "cell_type": "code",
   "execution_count": 56,
   "outputs": [],
   "source": [
    "def get_subgraph(_data: Data, p_sample: float = 0.2, walk_length: int = 10, max_attempts: int = 100) -> Data:\n",
    "    edge_index = _data.edge_index\n",
    "    _num_nodes = _data.num_nodes\n",
    "    num_nodes_sample = int(p_sample * _num_nodes)\n",
    "\n",
    "    sampled_nodes = torch.tensor([], dtype=torch.long)\n",
    "    attempts = 0\n",
    "\n",
    "    while sampled_nodes.size(0) < num_nodes_sample and attempts < max_attempts:\n",
    "        start_node = torch.randint(0, _num_nodes, (1,))\n",
    "        walk_nodes = [start_node.item()]\n",
    "        current_node = start_node.item()\n",
    "\n",
    "        for _ in range(walk_length):\n",
    "            neighbors = edge_index[1, edge_index[0] == current_node]\n",
    "            if neighbors.size(0) == 0:\n",
    "                break  # current_node is a leaf node\n",
    "            current_node = neighbors[torch.randint(0, neighbors.size(0), (1,))].item()\n",
    "            walk_nodes.append(current_node)\n",
    "\n",
    "        sampled_nodes = torch.unique(torch.cat([sampled_nodes, torch.tensor(walk_nodes, dtype=torch.long)]))\n",
    "        attempts += 1\n",
    "\n",
    "    subgraph_nodes, subgraph_edges = subgraph(sampled_nodes, edge_index)\n",
    "    data_subgraph = _data.clone()\n",
    "    data_subgraph.edge_index = subgraph_edges\n",
    "\n",
    "    # If node features exist, extract subgraph node features\n",
    "    if _data.x is not None:\n",
    "        data_subgraph.x = _data.x[sampled_nodes]\n",
    "\n",
    "    data_subgraph.num_nodes = sampled_nodes.size(0)\n",
    "\n",
    "    return data_subgraph"
   ],
   "metadata": {
    "collapsed": false,
    "ExecuteTime": {
     "end_time": "2023-05-13T06:58:25.758147562Z",
     "start_time": "2023-05-13T06:58:25.748285239Z"
    }
   }
  },
  {
   "cell_type": "code",
   "execution_count": 57,
   "outputs": [],
   "source": [
    "def attribute_masking(_data: Data, p_mask: float = 0.2) -> Data:\n",
    "    _num_nodes = _data.num_nodes\n",
    "    num_node_features = _data.x.size(1)\n",
    "    num_features_mask = int(p_mask * num_node_features)\n",
    "    mask = torch.ones(num_node_features, dtype=bool)\n",
    "    mask_indices = torch.randperm(num_node_features)[:num_features_mask]\n",
    "    mask[mask_indices] = False\n",
    "    _data.x_masked = _data.x.clone()\n",
    "    _data.x_masked[:, mask] = 0\n",
    "    _data.attr_mask = mask\n",
    "\n",
    "    return _data"
   ],
   "metadata": {
    "collapsed": false,
    "ExecuteTime": {
     "end_time": "2023-05-13T07:05:44.400816674Z",
     "start_time": "2023-05-13T07:05:44.390325503Z"
    }
   }
  },
  {
   "cell_type": "code",
   "execution_count": null,
   "outputs": [],
   "source": [],
   "metadata": {
    "collapsed": false
   }
  }
 ],
 "metadata": {
  "kernelspec": {
   "display_name": "Python 3",
   "language": "python",
   "name": "python3"
  },
  "language_info": {
   "codemirror_mode": {
    "name": "ipython",
    "version": 2
   },
   "file_extension": ".py",
   "mimetype": "text/x-python",
   "name": "python",
   "nbconvert_exporter": "python",
   "pygments_lexer": "ipython2",
   "version": "2.7.6"
  }
 },
 "nbformat": 4,
 "nbformat_minor": 0
}
